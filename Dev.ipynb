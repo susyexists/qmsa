{
 "cells": [
  {
   "cell_type": "code",
   "execution_count": 4,
   "metadata": {},
   "outputs": [],
   "source": [
    "from src import qmsa"
   ]
  },
  {
   "cell_type": "code",
   "execution_count": 5,
   "metadata": {},
   "outputs": [],
   "source": [
    "mesh = qmsa.utils.mesh_cartesian([3,3,3],spacing=True)\n"
   ]
  },
  {
   "cell_type": "code",
   "execution_count": 3,
   "metadata": {},
   "outputs": [
    {
     "name": "stdout",
     "output_type": "stream",
     "text": [
      "Note: you may need to restart the kernel to use updated packages.\n"
     ]
    }
   ],
   "source": [
    "pip freeze > requirements.txt"
   ]
  },
  {
   "cell_type": "code",
   "execution_count": 7,
   "metadata": {},
   "outputs": [
    {
     "data": {
      "text/plain": [
       "array([[0.        , 0.        , 0.        , 0.03703704],\n",
       "       [0.        , 0.        , 0.33333333, 0.03703704],\n",
       "       [0.        , 0.        , 0.66666667, 0.03703704],\n",
       "       [0.        , 0.33333333, 0.        , 0.03703704],\n",
       "       [0.        , 0.33333333, 0.33333333, 0.03703704],\n",
       "       [0.        , 0.33333333, 0.66666667, 0.03703704],\n",
       "       [0.        , 0.66666667, 0.        , 0.03703704],\n",
       "       [0.        , 0.66666667, 0.33333333, 0.03703704],\n",
       "       [0.        , 0.66666667, 0.66666667, 0.03703704],\n",
       "       [0.33333333, 0.        , 0.        , 0.03703704],\n",
       "       [0.33333333, 0.        , 0.33333333, 0.03703704],\n",
       "       [0.33333333, 0.        , 0.66666667, 0.03703704],\n",
       "       [0.33333333, 0.33333333, 0.        , 0.03703704],\n",
       "       [0.33333333, 0.33333333, 0.33333333, 0.03703704],\n",
       "       [0.33333333, 0.33333333, 0.66666667, 0.03703704],\n",
       "       [0.33333333, 0.66666667, 0.        , 0.03703704],\n",
       "       [0.33333333, 0.66666667, 0.33333333, 0.03703704],\n",
       "       [0.33333333, 0.66666667, 0.66666667, 0.03703704],\n",
       "       [0.66666667, 0.        , 0.        , 0.03703704],\n",
       "       [0.66666667, 0.        , 0.33333333, 0.03703704],\n",
       "       [0.66666667, 0.        , 0.66666667, 0.03703704],\n",
       "       [0.66666667, 0.33333333, 0.        , 0.03703704],\n",
       "       [0.66666667, 0.33333333, 0.33333333, 0.03703704],\n",
       "       [0.66666667, 0.33333333, 0.66666667, 0.03703704],\n",
       "       [0.66666667, 0.66666667, 0.        , 0.03703704],\n",
       "       [0.66666667, 0.66666667, 0.33333333, 0.03703704],\n",
       "       [0.66666667, 0.66666667, 0.66666667, 0.03703704]])"
      ]
     },
     "execution_count": 7,
     "metadata": {},
     "output_type": "execute_result"
    }
   ],
   "source": [
    "mesh"
   ]
  },
  {
   "cell_type": "code",
   "execution_count": 12,
   "metadata": {},
   "outputs": [
    {
     "data": {
      "text/plain": [
       "0.999999999999"
      ]
     },
     "execution_count": 12,
     "metadata": {},
     "output_type": "execute_result"
    }
   ],
   "source": [
    "round(1/len(mesh),12)*len(mesh)"
   ]
  },
  {
   "cell_type": "code",
   "execution_count": 2,
   "metadata": {},
   "outputs": [],
   "source": [
    "model = qmsa.utils."
   ]
  },
  {
   "cell_type": "code",
   "execution_count": 12,
   "metadata": {},
   "outputs": [
    {
     "data": {
      "text/plain": [
       "list"
      ]
     },
     "execution_count": 12,
     "metadata": {},
     "output_type": "execute_result"
    }
   ],
   "source": [
    "type([2])"
   ]
  },
  {
   "cell_type": "code",
   "execution_count": 10,
   "metadata": {},
   "outputs": [
    {
     "data": {
      "text/plain": [
       "True"
      ]
     },
     "execution_count": 10,
     "metadata": {},
     "output_type": "execute_result"
    }
   ],
   "source": [
    "bool(int(1.6))"
   ]
  },
  {
   "cell_type": "code",
   "execution_count": 7,
   "metadata": {},
   "outputs": [
    {
     "ename": "TypeError",
     "evalue": "object of type 'int' has no len()",
     "output_type": "error",
     "traceback": [
      "\u001b[0;31m---------------------------------------------------------------------------\u001b[0m",
      "\u001b[0;31mTypeError\u001b[0m                                 Traceback (most recent call last)",
      "Cell \u001b[0;32mIn[7], line 1\u001b[0m\n\u001b[0;32m----> 1\u001b[0m \u001b[38;5;28;43mlen\u001b[39;49m\u001b[43m(\u001b[49m\u001b[38;5;241;43m2\u001b[39;49m\u001b[43m)\u001b[49m\n",
      "\u001b[0;31mTypeError\u001b[0m: object of type 'int' has no len()"
     ]
    }
   ],
   "source": [
    "len(2)ini"
   ]
  },
  {
   "cell_type": "code",
   "execution_count": 6,
   "metadata": {},
   "outputs": [
    {
     "data": {
      "text/plain": [
       "<src.qmsa.model.model at 0x76c8a0966c10>"
      ]
     },
     "execution_count": 6,
     "metadata": {},
     "output_type": "execute_result"
    }
   ],
   "source": [
    "model.model()"
   ]
  },
  {
   "cell_type": "code",
   "execution_count": 4,
   "metadata": {},
   "outputs": [
    {
     "data": {
      "text/plain": [
       "['__builtins__',\n",
       " '__cached__',\n",
       " '__doc__',\n",
       " '__file__',\n",
       " '__loader__',\n",
       " '__name__',\n",
       " '__package__',\n",
       " '__spec__',\n",
       " 'model']"
      ]
     },
     "execution_count": 4,
     "metadata": {},
     "output_type": "execute_result"
    }
   ],
   "source": [
    "dir(model)"
   ]
  },
  {
   "cell_type": "code",
   "execution_count": null,
   "metadata": {},
   "outputs": [],
   "source": []
  }
 ],
 "metadata": {
  "kernelspec": {
   "display_name": "Python 3",
   "language": "python",
   "name": "python3"
  },
  "language_info": {
   "codemirror_mode": {
    "name": "ipython",
    "version": 3
   },
   "file_extension": ".py",
   "mimetype": "text/x-python",
   "name": "python",
   "nbconvert_exporter": "python",
   "pygments_lexer": "ipython3",
   "version": "3.10.12"
  }
 },
 "nbformat": 4,
 "nbformat_minor": 2
}
